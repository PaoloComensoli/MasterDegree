{
  "nbformat": 4,
  "nbformat_minor": 0,
  "metadata": {
    "colab": {
      "name": "ResourceSchedule.ipynb",
      "provenance": [],
      "collapsed_sections": [],
      "authorship_tag": "ABX9TyPrKwK0eI1VmQNz66SQS4yA",
      "include_colab_link": true
    },
    "kernelspec": {
      "name": "python3",
      "display_name": "Python 3"
    },
    "language_info": {
      "name": "python"
    }
  },
  "cells": [
    {
      "cell_type": "markdown",
      "metadata": {
        "id": "view-in-github",
        "colab_type": "text"
      },
      "source": [
        "<a href=\"https://colab.research.google.com/github/PaoloComensoli/MasterDegree/blob/main/Decision%20Models/Exercises/PuLP/ResourceSchedule.ipynb\" target=\"_parent\"><img src=\"https://colab.research.google.com/assets/colab-badge.svg\" alt=\"Open In Colab\"/></a>"
      ]
    },
    {
      "cell_type": "code",
      "source": [
        "!pip install pulp"
      ],
      "metadata": {
        "colab": {
          "base_uri": "https://localhost:8080/"
        },
        "id": "zP83vFpt5Xf7",
        "outputId": "62060049-e0e9-4649-9e4a-449d011757f5"
      },
      "execution_count": 2,
      "outputs": [
        {
          "output_type": "stream",
          "name": "stdout",
          "text": [
            "Collecting pulp\n",
            "  Downloading PuLP-2.6.0-py3-none-any.whl (14.2 MB)\n",
            "\u001b[K     |████████████████████████████████| 14.2 MB 16.0 MB/s \n",
            "\u001b[?25hInstalling collected packages: pulp\n",
            "Successfully installed pulp-2.6.0\n"
          ]
        }
      ]
    },
    {
      "cell_type": "code",
      "execution_count": 3,
      "metadata": {
        "id": "KKd2XZPP5D85"
      },
      "outputs": [],
      "source": [
        "from pulp import *"
      ]
    },
    {
      "cell_type": "code",
      "source": [
        "# Initialize class\n",
        "model = LpProblem(\"MaximizeBakeryProfits\", LpMaximize)"
      ],
      "metadata": {
        "id": "PwaEJWNN5Vs3"
      },
      "execution_count": 5,
      "outputs": []
    },
    {
      "cell_type": "code",
      "source": [
        "# Define decision variables\n",
        "A = LpVariable('A', lowBound=0, cat='Integer')\n",
        "B = LpVariable('B', lowBound=0, cat='Integer')"
      ],
      "metadata": {
        "id": "AD1bGb7J5y4E"
      },
      "execution_count": 6,
      "outputs": []
    },
    {
      "cell_type": "code",
      "source": [
        "# Define objective functions\n",
        "model += 20 * A + 40 * B"
      ],
      "metadata": {
        "id": "VKZ0kgZZ6BtU"
      },
      "execution_count": 7,
      "outputs": []
    },
    {
      "cell_type": "code",
      "source": [
        "# Define contraints\n",
        "model += 0.5 * A + 1 * B <= 30\n",
        "model += 1 * A + 2.5 * B <= 60\n",
        "model += 1 * A + 2 * B <= 22"
      ],
      "metadata": {
        "id": "YRtXIwkb6Hgo"
      },
      "execution_count": 8,
      "outputs": []
    },
    {
      "cell_type": "code",
      "source": [
        "# Solve Model\n",
        "model.solve()\n",
        "print('Produce {} Cake A'.format(A.varValue))\n",
        "print('Produce {} Cake B'.format(B.varValue))"
      ],
      "metadata": {
        "colab": {
          "base_uri": "https://localhost:8080/"
        },
        "id": "TJ0eJTe86W_u",
        "outputId": "55aee689-378e-4d14-e90b-7be8c8484957"
      },
      "execution_count": 9,
      "outputs": [
        {
          "output_type": "stream",
          "name": "stdout",
          "text": [
            "Produce 0.0 Cake A\n",
            "Produce 11.0 Cake B\n"
          ]
        }
      ]
    }
  ]
}