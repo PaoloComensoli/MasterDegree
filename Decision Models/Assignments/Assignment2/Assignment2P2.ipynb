{
 "cells": [
  {
   "cell_type": "code",
   "execution_count": 30,
   "metadata": {
    "collapsed": true,
    "pycharm": {
     "name": "#%%\n"
    }
   },
   "outputs": [],
   "source": [
    "import numpy as np"
   ]
  },
  {
   "cell_type": "code",
   "execution_count": 3,
   "outputs": [],
   "source": [
    "# Definiamo la nosta funzione f\n",
    "def f(x1, x2):\n",
    "    return 2*x1*x2 + x2 - x1**2 - 2*x2**2\n",
    "\n",
    "# Definiziamo il gradiente della funzione f\n",
    "def grad_f(x1, x2):\n",
    "    d1 = 2*x2 - 2*x1\n",
    "    d2 = 2*x1 + 1 - 4*x2\n",
    "    return np.array([d1, d2])"
   ],
   "metadata": {
    "collapsed": false,
    "pycharm": {
     "name": "#%%\n"
    }
   }
  },
  {
   "cell_type": "code",
   "execution_count": 36,
   "outputs": [],
   "source": [
    "def gradient_batch(grad_func, start, gamma, threshold, max_iter, verbose):\n",
    "    x_curr = start\n",
    "    for i in range(max_iter):\n",
    "        grad = grad_func(x_curr[0], x_curr[1])\n",
    "\n",
    "        if np.linalg.norm(grad) < threshold:\n",
    "            if verbose:\n",
    "                print(f'# Iterazione: {i}, x1: {x_curr[0]:.7f}, x2:  {x_curr[1]:.7f}')\n",
    "            return x_curr, i + 1\n",
    "\n",
    "        x_new = x_curr + gamma * grad # Problema di massimizzazione\n",
    "\n",
    "        if verbose:\n",
    "            print(f'# Iterazione: {i}, x1: {x_curr[0]:.7f}, x2:  {x_curr[1]:.7f}, x calcolato: {x_new}')\n",
    "\n",
    "        x_curr = x_new\n",
    "\n",
    "    print('Raggiunto il numero massimo di iterazioni')\n",
    "    return x_curr, i + 1"
   ],
   "metadata": {
    "collapsed": false,
    "pycharm": {
     "name": "#%%\n"
    }
   }
  },
  {
   "cell_type": "code",
   "execution_count": 40,
   "outputs": [
    {
     "name": "stdout",
     "output_type": "stream",
     "text": [
      "Raggiunto il numero massimo di iterazioni\n",
      "Gamma = 0.1, # Max iterazioni = 10, x = [0.23560878 0.33648225], # Iterazioni eseguite = 10\n",
      "Raggiunto il numero massimo di iterazioni\n",
      "Gamma = 0.1, # Max iterazioni = 20, x = [0.38054548 0.42617298], # Iterazioni eseguite = 20\n",
      "Raggiunto il numero massimo di iterazioni\n",
      "Gamma = 0.1, # Max iterazioni = 50, x = [0.48898926 0.49319499], # Iterazioni eseguite = 50\n",
      "Raggiunto il numero massimo di iterazioni\n",
      "Gamma = 0.1, # Max iterazioni = 100, x = [0.4997929  0.49987201], # Iterazioni eseguite = 100\n",
      "Gamma = 0.1, # Max iterazioni = 200, x = [0.49998906 0.49999324], # Iterazioni eseguite = 138\n",
      "Raggiunto il numero massimo di iterazioni\n",
      "Gamma = 0.15, # Max iterazioni = 10, x = [0.32665735 0.39286831], # Iterazioni eseguite = 10\n",
      "Raggiunto il numero massimo di iterazioni\n",
      "Gamma = 0.15, # Max iterazioni = 20, x = [0.44867243 0.46827782], # Iterazioni eseguite = 20\n",
      "Raggiunto il numero massimo di iterazioni\n",
      "Gamma = 0.15, # Max iterazioni = 50, x = [0.49866744 0.49917643], # Iterazioni eseguite = 50\n",
      "Gamma = 0.15, # Max iterazioni = 100, x = [0.49998976 0.49999367], # Iterazioni eseguite = 91\n",
      "Gamma = 0.15, # Max iterazioni = 200, x = [0.49998976 0.49999367], # Iterazioni eseguite = 91\n",
      "Raggiunto il numero massimo di iterazioni\n",
      "Gamma = 0.2, # Max iterazioni = 10, x = [0.38847058 0.43107103], # Iterazioni eseguite = 10\n",
      "Raggiunto il numero massimo di iterazioni\n",
      "Gamma = 0.2, # Max iterazioni = 20, x = [0.47875197 0.486868  ], # Iterazioni eseguite = 20\n",
      "Raggiunto il numero massimo di iterazioni\n",
      "Gamma = 0.2, # Max iterazioni = 50, x = [0.49985307 0.49990919], # Iterazioni eseguite = 50\n",
      "Gamma = 0.2, # Max iterazioni = 100, x = [0.49998965 0.4999936 ], # Iterazioni eseguite = 67\n",
      "Gamma = 0.2, # Max iterazioni = 200, x = [0.49998965 0.4999936 ], # Iterazioni eseguite = 67\n",
      "Raggiunto il numero massimo di iterazioni\n",
      "Gamma = 0.25, # Max iterazioni = 10, x = [0.4296875  0.45654297], # Iterazioni eseguite = 10\n",
      "Raggiunto il numero massimo di iterazioni\n",
      "Gamma = 0.25, # Max iterazioni = 20, x = [0.49155474 0.49478054], # Iterazioni eseguite = 20\n",
      "Raggiunto il numero massimo di iterazioni\n",
      "Gamma = 0.25, # Max iterazioni = 50, x = [0.49998537 0.49999096], # Iterazioni eseguite = 50\n",
      "Gamma = 0.25, # Max iterazioni = 100, x = [0.49999042 0.49999408], # Iterazioni eseguite = 53\n",
      "Gamma = 0.25, # Max iterazioni = 200, x = [0.49999042 0.49999408], # Iterazioni eseguite = 53\n",
      "Raggiunto il numero massimo di iterazioni\n",
      "Gamma = 0.5, # Max iterazioni = 10, x = [ 11.  -16.5], # Iterazioni eseguite = 10\n",
      "Raggiunto il numero massimo di iterazioni\n",
      "Gamma = 0.5, # Max iterazioni = 20, x = [ 1292.5 -2090. ], # Iterazioni eseguite = 20\n",
      "Raggiunto il numero massimo di iterazioni\n",
      "Gamma = 0.5, # Max iterazioni = 50, x = [ 2.40376349e+09 -3.88937102e+09], # Iterazioni eseguite = 50\n",
      "Raggiunto il numero massimo di iterazioni\n",
      "Gamma = 0.5, # Max iterazioni = 100, x = [ 6.76509262e+19 -1.09461498e+20], # Iterazioni eseguite = 100\n",
      "Raggiunto il numero massimo di iterazioni\n",
      "Gamma = 0.5, # Max iterazioni = 200, x = [ 5.35843259e+40 -8.67012606e+40], # Iterazioni eseguite = 200\n"
     ]
    }
   ],
   "source": [
    "x0 = np.array([0, 0]) # Utilizziamo l'orgine come partenza\n",
    "\n",
    "learning_rates = [0.1, 0.15, 0.2, 0.25, 0.5]\n",
    "max_iters = [10, 20, 50, 100, 200]\n",
    "\n",
    "for gamma in learning_rates:\n",
    "    for max_iter in max_iters:\n",
    "        x, iters = gradient_batch(grad_f, x0, gamma, 0.00001, max_iter, False)\n",
    "        print(f'Gamma = {gamma}, # Max iterazioni = {max_iter}, x = {x}, # Iterazioni eseguite = {iters}')"
   ],
   "metadata": {
    "collapsed": false,
    "pycharm": {
     "name": "#%%\n"
    }
   }
  }
 ],
 "metadata": {
  "kernelspec": {
   "display_name": "Python 3",
   "language": "python",
   "name": "python3"
  },
  "language_info": {
   "codemirror_mode": {
    "name": "ipython",
    "version": 2
   },
   "file_extension": ".py",
   "mimetype": "text/x-python",
   "name": "python",
   "nbconvert_exporter": "python",
   "pygments_lexer": "ipython2",
   "version": "2.7.6"
  }
 },
 "nbformat": 4,
 "nbformat_minor": 0
}