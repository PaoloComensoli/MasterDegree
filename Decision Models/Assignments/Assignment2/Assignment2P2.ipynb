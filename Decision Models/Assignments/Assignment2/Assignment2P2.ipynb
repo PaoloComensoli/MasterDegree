{
 "cells": [
  {
   "cell_type": "code",
   "execution_count": 1,
   "metadata": {
    "collapsed": true,
    "pycharm": {
     "name": "#%%\n"
    }
   },
   "outputs": [],
   "source": [
    "import numpy as np\n",
    "from sympy import *"
   ]
  },
  {
   "cell_type": "code",
   "execution_count": 2,
   "outputs": [],
   "source": [
    "# Definiamo la nosta funzione f\n",
    "def f(x1, x2):\n",
    "    return 2*x1*x2 + x2 - x1**2 - 2*x2**2\n",
    "\n",
    "# Definiziamo il gradiente della funzione f\n",
    "def grad_f(x1, x2):\n",
    "    d1 = 2*x2 - 2*x1\n",
    "    d2 = 2*x1 + 1 - 4*x2\n",
    "    return np.array([d1, d2])"
   ],
   "metadata": {
    "collapsed": false,
    "pycharm": {
     "name": "#%%\n"
    }
   }
  },
  {
   "cell_type": "code",
   "execution_count": 3,
   "outputs": [],
   "source": [
    "def metodo_gradiente(grad_func, start, threshold, max_iter, verbose):\n",
    "    x_curr = start\n",
    "    for i in range(max_iter):\n",
    "        grad = grad_func(x_curr[0], x_curr[1])\n",
    "\n",
    "        if np.linalg.norm(grad) < threshold:\n",
    "            if verbose:\n",
    "                print(f'# Iterazione: {i}, x1: {x_curr[0]:.7f}, x2:  {x_curr[1]:.7f}')\n",
    "            return x_curr, i + 1\n",
    "\n",
    "        # Calcoliamo il gamma corretto\n",
    "        t = Symbol('t')\n",
    "        step1 = x_curr + t * grad\n",
    "        step2 = f(step1[0], step1[1])\n",
    "        step3 = diff(step2) # Facciamo la derivata\n",
    "        gamma = solve(step3) # Risolviamo t\n",
    "        gamma = float(gamma[0])\n",
    "        x_new = x_curr + gamma * grad # Problema di massimizzazione\n",
    "\n",
    "        if verbose:\n",
    "            print(f'# Iterazione: {i}, x1: {x_curr[0]:.7f}, x2:  {x_curr[1]:.7f}, x calcolato: {x_new}, Gamma: {gamma}')\n",
    "\n",
    "        x_curr = x_new\n",
    "\n",
    "    print('Raggiunto il numero massimo di iterazioni')\n",
    "    return x_curr, i + 1"
   ],
   "metadata": {
    "collapsed": false,
    "pycharm": {
     "name": "#%%\n"
    }
   }
  },
  {
   "cell_type": "code",
   "execution_count": 4,
   "outputs": [
    {
     "name": "stdout",
     "output_type": "stream",
     "text": [
      "Raggiunto il numero massimo di iterazioni\n",
      "# Max iterazioni = 10, x = [0.484375 0.484375], # Iterazioni eseguite = 10\n",
      "Raggiunto il numero massimo di iterazioni\n",
      "# Max iterazioni = 20, x = [0.49951172 0.49951172], # Iterazioni eseguite = 20\n",
      "# Max iterazioni = 50, x = [0.49999237 0.49999619], # Iterazioni eseguite = 34\n",
      "# Max iterazioni = 100, x = [0.49999237 0.49999619], # Iterazioni eseguite = 34\n",
      "# Max iterazioni = 200, x = [0.49999237 0.49999619], # Iterazioni eseguite = 34\n"
     ]
    }
   ],
   "source": [
    "x0 = np.array([0, 0]) # Utilizziamo l'orgine come partenza\n",
    "max_iters = [10, 20, 50, 100, 200]\n",
    "\n",
    "for max_iter in max_iters:\n",
    "    x, iters = metodo_gradiente(grad_f, x0, 0.00001, max_iter, False)\n",
    "    print(f'# Max iterazioni = {max_iter}, x = {x}, # Iterazioni eseguite = {iters}')"
   ],
   "metadata": {
    "collapsed": false,
    "pycharm": {
     "name": "#%%\n"
    }
   }
  },
  {
   "cell_type": "code",
   "execution_count": null,
   "outputs": [],
   "source": [],
   "metadata": {
    "collapsed": false,
    "pycharm": {
     "name": "#%%\n"
    }
   }
  }
 ],
 "metadata": {
  "kernelspec": {
   "display_name": "Python 3",
   "language": "python",
   "name": "python3"
  },
  "language_info": {
   "codemirror_mode": {
    "name": "ipython",
    "version": 2
   },
   "file_extension": ".py",
   "mimetype": "text/x-python",
   "name": "python",
   "nbconvert_exporter": "python",
   "pygments_lexer": "ipython2",
   "version": "2.7.6"
  }
 },
 "nbformat": 4,
 "nbformat_minor": 0
}