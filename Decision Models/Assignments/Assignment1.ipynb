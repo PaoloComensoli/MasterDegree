{
  "cells": [
    {
      "cell_type": "markdown",
      "metadata": {
        "id": "view-in-github",
        "colab_type": "text"
      },
      "source": [
        "<a href=\"https://colab.research.google.com/github/PaoloComensoli/MasterDegree/blob/main/Decision%20Models/Assignments/Assignment1.ipynb\" target=\"_parent\"><img src=\"https://colab.research.google.com/assets/colab-badge.svg\" alt=\"Open In Colab\"/></a>"
      ]
    },
    {
      "cell_type": "code",
      "source": [
        "!pip install pulp"
      ],
      "metadata": {
        "colab": {
          "base_uri": "https://localhost:8080/"
        },
        "id": "zCb_JEklYo_i",
        "outputId": "8ba21f2b-fd14-4646-eb0c-0b1818d46673"
      },
      "execution_count": 2,
      "outputs": [
        {
          "output_type": "stream",
          "name": "stdout",
          "text": [
            "Collecting pulp\n",
            "  Downloading PuLP-2.6.0-py3-none-any.whl (14.2 MB)\n",
            "\u001b[K     |████████████████████████████████| 14.2 MB 25.8 MB/s \n",
            "\u001b[?25hInstalling collected packages: pulp\n",
            "Successfully installed pulp-2.6.0\n"
          ]
        }
      ]
    },
    {
      "cell_type": "code",
      "execution_count": 3,
      "outputs": [],
      "source": [
        "from pulp import *"
      ],
      "metadata": {
        "pycharm": {
          "name": "#%%\n"
        },
        "id": "QtfE4FoAYiwG"
      }
    },
    {
      "cell_type": "code",
      "execution_count": 4,
      "outputs": [],
      "source": [
        "model = LpProblem(\"MaximizeProfit\", LpMaximize)"
      ],
      "metadata": {
        "pycharm": {
          "name": "#%%\n"
        },
        "id": "raJF5F5iYiwI"
      }
    },
    {
      "cell_type": "code",
      "execution_count": 5,
      "outputs": [],
      "source": [
        "# Variables\n",
        "cargos = ['Cargo 1', 'Cargo 2', 'Cargo 3']\n",
        "wagons = ['Wagon 1','Wagon 2','Wagon 3','Wagon 4']\n",
        "key = [(c,w) for c in cargos for w in wagons]\n",
        "transport = LpVariable.dicts('TRANSPORT', key, lowBound=0, cat='Continuous')\n",
        "\n",
        "# Variables for objective functions\n",
        "revenues = {\n",
        "    'Cargo 1' : 3500,\n",
        "    'Cargo 2' : 2500,\n",
        "    'Cargo 3' : 2000\n",
        "}\n",
        "\n",
        "# Variables for contraints\n",
        "cargo_availability = {\n",
        "    'Cargo 1' : 20,\n",
        "    'Cargo 2' : 10,\n",
        "    'Cargo 3' : 18\n",
        "}\n",
        "\n",
        "cargo_space = {\n",
        "    'Cargo 1' : 500,\n",
        "    'Cargo 2' : 300,\n",
        "    'Cargo 3' : 400\n",
        "}\n",
        "\n",
        "wagons_availability = {\n",
        "    'Wagon 1' : (10, 5000),\n",
        "    'Wagon 2' : (8, 4000),\n",
        "    'Wagon 3' : (12, 8000),\n",
        "    'Wagon 4' : (6, 2500),\n",
        "}"
      ],
      "metadata": {
        "pycharm": {
          "name": "#%%\n"
        },
        "id": "sdD6-3fsYiwI"
      }
    },
    {
      "cell_type": "code",
      "execution_count": 10,
      "outputs": [
        {
          "output_type": "stream",
          "name": "stderr",
          "text": [
            "/usr/local/lib/python3.7/dist-packages/pulp/pulp.py:1704: UserWarning: Overwriting previously set objective.\n",
            "  warnings.warn(\"Overwriting previously set objective.\")\n"
          ]
        }
      ],
      "source": [
        "# Define Objective\n",
        "model += lpSum([revenues[k[0]] * transport[k] for k in key])"
      ],
      "metadata": {
        "pycharm": {
          "name": "#%%\n"
        },
        "colab": {
          "base_uri": "https://localhost:8080/"
        },
        "id": "lvZhof5bYiwL",
        "outputId": "0e7ab461-47b6-4941-dc8d-448fa4b8bc94"
      }
    },
    {
      "cell_type": "code",
      "execution_count": 7,
      "outputs": [],
      "source": [
        "# Define Contraints\n",
        "for c in cargos:\n",
        "    model += lpSum([transport[k] for k in key if k[0] == c]) <= cargo_availability[c]\n",
        "    \n",
        "for w in wagons:\n",
        "    model += lpSum([transport[k] for k in key if k[1] == w]) <= wagons_availability[w][0]\n",
        "\n",
        "for w in wagons:\n",
        "    model += lpSum([cargo_space[k[0]] * transport[k] for k in key if w[1] == w]) <= wagons_availability[w][1]"
      ],
      "metadata": {
        "pycharm": {
          "name": "#%%\n"
        },
        "id": "uRmzsYfMYiwM"
      }
    },
    {
      "cell_type": "code",
      "execution_count": 11,
      "outputs": [
        {
          "output_type": "stream",
          "name": "stdout",
          "text": [
            "Optimal\n"
          ]
        }
      ],
      "source": [
        "model.solve(PULP_CBC_CMD(msg=False)) # Keep the output clean\n",
        "status = LpStatus[model.status]\n",
        "print(status)"
      ],
      "metadata": {
        "pycharm": {
          "name": "#%%\n"
        },
        "colab": {
          "base_uri": "https://localhost:8080/"
        },
        "id": "U23ovvpZYiwM",
        "outputId": "075ecfe4-ad2d-491a-e9b4-06eea7ad8fe8"
      }
    },
    {
      "cell_type": "code",
      "execution_count": 12,
      "outputs": [
        {
          "output_type": "stream",
          "name": "stdout",
          "text": [
            "Optimal value: 107000.0 of revenue\n",
            "\n",
            "Output variables: \n",
            "******* Cargo 1 *******\n",
            "6.0 tons of Cargo 1 on Wagon 1\n",
            "8.0 tons of Cargo 1 on Wagon 2\n",
            "0.0 tons of Cargo 1 on Wagon 3\n",
            "6.0 tons of Cargo 1 on Wagon 4\n",
            "******* Cargo 2 *******\n",
            "0.0 tons of Cargo 2 on Wagon 1\n",
            "0.0 tons of Cargo 2 on Wagon 2\n",
            "10.0 tons of Cargo 2 on Wagon 3\n",
            "0.0 tons of Cargo 2 on Wagon 4\n",
            "******* Cargo 3 *******\n",
            "4.0 tons of Cargo 3 on Wagon 1\n",
            "0.0 tons of Cargo 3 on Wagon 2\n",
            "2.0 tons of Cargo 3 on Wagon 3\n",
            "0.0 tons of Cargo 3 on Wagon 4\n"
          ]
        }
      ],
      "source": [
        "key_values = {v: k for k, v in transport.items()}\n",
        "print('Optimal value:', model.objective.value(), 'of revenue')\n",
        "print('')\n",
        "print('Output variables: ')\n",
        "\n",
        "current_cargo = ''\n",
        "for v in model.variables():\n",
        "    cargo = key_values[v][0]\n",
        "    if cargo != current_cargo:\n",
        "        print('******* ' + cargo + ' *******')\n",
        "        current_cargo = cargo\n",
        "    print(v.varValue, 'tons of', cargo, 'on', key_values[v][1])"
      ],
      "metadata": {
        "pycharm": {
          "name": "#%%\n"
        },
        "colab": {
          "base_uri": "https://localhost:8080/"
        },
        "id": "QWerYJV7YiwM",
        "outputId": "f3015a9c-8a4c-4b99-8fc8-0160b43501cb"
      }
    }
  ],
  "metadata": {
    "kernelspec": {
      "display_name": "Python 3",
      "language": "python",
      "name": "python3"
    },
    "language_info": {
      "codemirror_mode": {
        "name": "ipython",
        "version": 2
      },
      "file_extension": ".py",
      "mimetype": "text/x-python",
      "name": "python",
      "nbconvert_exporter": "python",
      "pygments_lexer": "ipython2",
      "version": "2.7.6"
    },
    "colab": {
      "name": "Assignment1.ipynb",
      "provenance": [],
      "include_colab_link": true
    }
  },
  "nbformat": 4,
  "nbformat_minor": 0
}