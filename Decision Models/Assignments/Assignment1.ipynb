{
  "cells": [
    {
      "cell_type": "markdown",
      "metadata": {
        "id": "view-in-github",
        "colab_type": "text"
      },
      "source": [
        "<a href=\"https://colab.research.google.com/github/PaoloComensoli/MasterDegree/blob/main/Decision%20Models/Assignments/Assignment1.ipynb\" target=\"_parent\"><img src=\"https://colab.research.google.com/assets/colab-badge.svg\" alt=\"Open In Colab\"/></a>"
      ]
    },
    {
      "cell_type": "code",
      "source": [
        "!pip install pulp"
      ],
      "metadata": {
        "id": "zCb_JEklYo_i"
      },
      "execution_count": 1,
      "outputs": []
    },
    {
      "cell_type": "code",
      "execution_count": null,
      "outputs": [],
      "source": [
        "from pulp import *\n",
        "import pandas as pd"
      ],
      "metadata": {
        "pycharm": {
          "name": "#%%\n"
        },
        "id": "QtfE4FoAYiwG"
      }
    },
    {
      "cell_type": "code",
      "execution_count": null,
      "outputs": [],
      "source": [
        "model = LpProblem(\"MaximizeProfit\", LpMaximize)"
      ],
      "metadata": {
        "pycharm": {
          "name": "#%%\n"
        },
        "id": "raJF5F5iYiwI"
      }
    },
    {
      "cell_type": "code",
      "execution_count": null,
      "outputs": [],
      "source": [
        "# Variables\n",
        "cargos = ['Cargo 1', 'Cargo 2', 'Cargo 3']\n",
        "wagons = ['Wagon 1','Wagon 2','Wagon 3','Wagon 4']\n",
        "key = [(c,w) for c in cargos for w in wagons]\n",
        "transport = LpVariable.dicts('TRANSPORT', key, lowBound=0, cat='Continuous')\n",
        "\n",
        "# Variables for objective functions\n",
        "revenues = {\n",
        "    'Cargo 1' : 3500,\n",
        "    'Cargo 2' : 2500,\n",
        "    'Cargo 3' : 2000\n",
        "}\n",
        "\n",
        "# Variables for constraints\n",
        "cargo_availability = {\n",
        "    'Cargo 1' : 20,\n",
        "    'Cargo 2' : 10,\n",
        "    'Cargo 3' : 18\n",
        "}\n",
        "\n",
        "cargo_space = {\n",
        "    'Cargo 1' : 500,\n",
        "    'Cargo 2' : 300,\n",
        "    'Cargo 3' : 400\n",
        "}\n",
        "\n",
        "wagons_availability = {\n",
        "    'Wagon 1' : (10, 5000),\n",
        "    'Wagon 2' : (8, 4000),\n",
        "    'Wagon 3' : (12, 8000),\n",
        "    'Wagon 4' : (6, 2500),\n",
        "}"
      ],
      "metadata": {
        "pycharm": {
          "name": "#%%\n"
        },
        "id": "sdD6-3fsYiwI"
      }
    },
    {
      "cell_type": "code",
      "execution_count": null,
      "outputs": [],
      "source": [
        "# Define Objective\n",
        "model += lpSum([revenues[k[0]] * transport[k] for k in key])"
      ],
      "metadata": {
        "pycharm": {
          "name": "#%%\n"
        },
        "id": "lvZhof5bYiwL"
      }
    },
    {
      "cell_type": "code",
      "execution_count": null,
      "outputs": [],
      "source": [
        "# Define Constraints\n",
        "for c in cargos:\n",
        "    model += lpSum([transport[k] for k in key if k[0] == c]) <= cargo_availability[c]\n",
        "    \n",
        "for w in wagons:\n",
        "    model += lpSum([transport[k] for k in key if k[1] == w]) <= wagons_availability[w][0]\n",
        "\n",
        "for w in wagons:\n",
        "    model += lpSum([cargo_space[k[0]] * transport[k] for k in key if w[1] == w]) <= wagons_availability[w][1]"
      ],
      "metadata": {
        "pycharm": {
          "name": "#%%\n"
        },
        "id": "uRmzsYfMYiwM"
      }
    },
    {
      "cell_type": "code",
      "execution_count": 1,
      "outputs": [],
      "source": [
        "model.writeLP(\"assignment1.lp\") # Store the problem\n",
        "model.solve(PULP_CBC_CMD(msg=False)) # Keep the output clean\n",
        "status = LpStatus[model.status]\n",
        "print(status)"
      ],
      "metadata": {
        "pycharm": {
          "name": "#%%\n"
        },
        "id": "U23ovvpZYiwM"
      }
    },
    {
      "cell_type": "code",
      "execution_count": 1,
      "outputs": [],
      "source": [
        "key_values = {v: k for k, v in transport.items()}\n",
        "print('Optimal value:', model.objective.value(), 'of revenue')\n",
        "print('')\n",
        "print('Output variables: ')\n",
        "\n",
        "current_cargo = ''\n",
        "for v in model.variables():\n",
        "    cargo = key_values[v][0]\n",
        "    if cargo != current_cargo:\n",
        "        print('******* ' + cargo + ' *******')\n",
        "        current_cargo = cargo\n",
        "    print(v.varValue, 'tons of', cargo, 'on', key_values[v][1])"
      ],
      "metadata": {
        "pycharm": {
          "name": "#%%\n"
        },
        "id": "QWerYJV7YiwM"
      }
    },
    {
      "cell_type": "code",
      "source": [
        "# Sensitivity - Shadow Price & Slack <- only for the old version\n",
        "s = [{'Contraint Name': name, 'Shadow Price': c.pi, 'Slack': c.slack}\n",
        "     for name, c in model.constraints.items()]\n",
        "print(pd.DataFrame(s))"
      ],
      "metadata": {
        "id": "j7lv1Vt5OOZn"
      },
      "execution_count": 1,
      "outputs": []
    },
    {
      "cell_type": "markdown",
      "source": [
        "# Sensitivity Analysis - GLPK\n",
        "Prerequisites: The solver GLPK must be installed"
      ],
      "metadata": {
        "id": "4_yLeANzOfFB"
      }
    },
    {
      "cell_type": "code",
      "source": [
        "model.solve(GLPK(msg=True, options=['--ranges', 'assignment1_Sensitivity.sen'])) # Solve and produce the sensitivity report"
      ],
      "metadata": {
        "id": "5xzTZfMKQNil"
      },
      "execution_count": null,
      "outputs": []
    }
  ],
  "metadata": {
    "kernelspec": {
      "display_name": "Python 3",
      "language": "python",
      "name": "python3"
    },
    "language_info": {
      "codemirror_mode": {
        "name": "ipython",
        "version": 2
      },
      "file_extension": ".py",
      "mimetype": "text/x-python",
      "name": "python",
      "nbconvert_exporter": "python",
      "pygments_lexer": "ipython2",
      "version": "2.7.6"
    },
    "colab": {
      "name": "Assignment1.ipynb",
      "provenance": [],
      "include_colab_link": true
    }
  },
  "nbformat": 4,
  "nbformat_minor": 0
}