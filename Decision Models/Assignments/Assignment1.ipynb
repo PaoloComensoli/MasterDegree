{
  "cells": [
    {
      "cell_type": "markdown",
      "metadata": {
        "id": "view-in-github",
        "colab_type": "text"
      },
      "source": [
        "<a href=\"https://colab.research.google.com/github/PaoloComensoli/MasterDegree/blob/main/Decision%20Models/Assignments/Assignment1.ipynb\" target=\"_parent\"><img src=\"https://colab.research.google.com/assets/colab-badge.svg\" alt=\"Open In Colab\"/></a>"
      ]
    },
    {
      "cell_type": "code",
      "source": [
        "!pip install pulp"
      ],
      "metadata": {
        "colab": {
          "base_uri": "https://localhost:8080/"
        },
        "id": "zCb_JEklYo_i",
        "outputId": "2be51cf5-18e8-48bb-ee43-5fb072d7d41b"
      },
      "execution_count": 1,
      "outputs": [
        {
          "output_type": "stream",
          "name": "stdout",
          "text": [
            "Collecting pulp\n",
            "  Downloading PuLP-2.6.0-py3-none-any.whl (14.2 MB)\n",
            "\u001b[K     |████████████████████████████████| 14.2 MB 6.5 MB/s \n",
            "\u001b[?25hInstalling collected packages: pulp\n",
            "Successfully installed pulp-2.6.0\n"
          ]
        }
      ]
    },
    {
      "cell_type": "code",
      "execution_count": 10,
      "outputs": [],
      "source": [
        "from pulp import *\n",
        "import pandas as pd"
      ],
      "metadata": {
        "pycharm": {
          "name": "#%%\n"
        },
        "id": "QtfE4FoAYiwG"
      }
    },
    {
      "cell_type": "code",
      "execution_count": 3,
      "outputs": [],
      "source": [
        "model = LpProblem(\"MaximizeProfit\", LpMaximize)"
      ],
      "metadata": {
        "pycharm": {
          "name": "#%%\n"
        },
        "id": "raJF5F5iYiwI"
      }
    },
    {
      "cell_type": "code",
      "execution_count": 4,
      "outputs": [],
      "source": [
        "# Variables\n",
        "cargos = ['Cargo 1', 'Cargo 2', 'Cargo 3']\n",
        "wagons = ['Wagon 1','Wagon 2','Wagon 3','Wagon 4']\n",
        "key = [(c,w) for c in cargos for w in wagons]\n",
        "transport = LpVariable.dicts('TRANSPORT', key, lowBound=0, cat='Continuous')\n",
        "\n",
        "# Variables for objective functions\n",
        "revenues = {\n",
        "    'Cargo 1' : 3500,\n",
        "    'Cargo 2' : 2500,\n",
        "    'Cargo 3' : 2000\n",
        "}\n",
        "\n",
        "# Variables for constraints\n",
        "cargo_availability = {\n",
        "    'Cargo 1' : 20,\n",
        "    'Cargo 2' : 10,\n",
        "    'Cargo 3' : 18\n",
        "}\n",
        "\n",
        "cargo_space = {\n",
        "    'Cargo 1' : 500,\n",
        "    'Cargo 2' : 300,\n",
        "    'Cargo 3' : 400\n",
        "}\n",
        "\n",
        "wagons_availability = {\n",
        "    'Wagon 1' : (10, 5000),\n",
        "    'Wagon 2' : (8, 4000),\n",
        "    'Wagon 3' : (12, 8000),\n",
        "    'Wagon 4' : (6, 2500),\n",
        "}"
      ],
      "metadata": {
        "pycharm": {
          "name": "#%%\n"
        },
        "id": "sdD6-3fsYiwI"
      }
    },
    {
      "cell_type": "code",
      "execution_count": 5,
      "outputs": [],
      "source": [
        "# Define Objective\n",
        "model += lpSum([revenues[k[0]] * transport[k] for k in key])"
      ],
      "metadata": {
        "pycharm": {
          "name": "#%%\n"
        },
        "id": "lvZhof5bYiwL"
      }
    },
    {
      "cell_type": "code",
      "execution_count": 6,
      "outputs": [],
      "source": [
        "# Define Constraints\n",
        "for c in cargos:\n",
        "    model += lpSum([transport[k] for k in key if k[0] == c]) <= cargo_availability[c]\n",
        "    \n",
        "for w in wagons:\n",
        "    model += lpSum([transport[k] for k in key if k[1] == w]) <= wagons_availability[w][0]\n",
        "\n",
        "for w in wagons:\n",
        "    model += lpSum([cargo_space[k[0]] * transport[k] for k in key if w[1] == w]) <= wagons_availability[w][1]"
      ],
      "metadata": {
        "pycharm": {
          "name": "#%%\n"
        },
        "id": "uRmzsYfMYiwM"
      }
    },
    {
      "cell_type": "code",
      "execution_count": 7,
      "outputs": [
        {
          "output_type": "stream",
          "name": "stdout",
          "text": [
            "Optimal\n"
          ]
        }
      ],
      "source": [
        "model.writeLP(\"assignment1.lp\") # Store the problem\n",
        "model.solve(PULP_CBC_CMD(msg=False)) # Keep the output clean\n",
        "status = LpStatus[model.status]\n",
        "print(status)"
      ],
      "metadata": {
        "pycharm": {
          "name": "#%%\n"
        },
        "colab": {
          "base_uri": "https://localhost:8080/"
        },
        "id": "U23ovvpZYiwM",
        "outputId": "75b1a1d1-fc22-4aeb-b72f-71bf2d184830"
      }
    },
    {
      "cell_type": "code",
      "execution_count": 8,
      "outputs": [
        {
          "output_type": "stream",
          "name": "stdout",
          "text": [
            "Optimal value: 107000.0 of revenue\n",
            "\n",
            "Output variables: \n",
            "******* Cargo 1 *******\n",
            "6.0 tons of Cargo 1 on Wagon 1\n",
            "8.0 tons of Cargo 1 on Wagon 2\n",
            "0.0 tons of Cargo 1 on Wagon 3\n",
            "6.0 tons of Cargo 1 on Wagon 4\n",
            "******* Cargo 2 *******\n",
            "0.0 tons of Cargo 2 on Wagon 1\n",
            "0.0 tons of Cargo 2 on Wagon 2\n",
            "10.0 tons of Cargo 2 on Wagon 3\n",
            "0.0 tons of Cargo 2 on Wagon 4\n",
            "******* Cargo 3 *******\n",
            "4.0 tons of Cargo 3 on Wagon 1\n",
            "0.0 tons of Cargo 3 on Wagon 2\n",
            "2.0 tons of Cargo 3 on Wagon 3\n",
            "0.0 tons of Cargo 3 on Wagon 4\n"
          ]
        }
      ],
      "source": [
        "key_values = {v: k for k, v in transport.items()}\n",
        "print('Optimal value:', model.objective.value(), 'of revenue')\n",
        "print('')\n",
        "print('Output variables: ')\n",
        "\n",
        "current_cargo = ''\n",
        "for v in model.variables():\n",
        "    cargo = key_values[v][0]\n",
        "    if cargo != current_cargo:\n",
        "        print('******* ' + cargo + ' *******')\n",
        "        current_cargo = cargo\n",
        "    print(v.varValue, 'tons of', cargo, 'on', key_values[v][1])"
      ],
      "metadata": {
        "pycharm": {
          "name": "#%%\n"
        },
        "colab": {
          "base_uri": "https://localhost:8080/"
        },
        "id": "QWerYJV7YiwM",
        "outputId": "f8f6543e-f52d-4ff9-8f52-14bda6605eb2"
      }
    },
    {
      "cell_type": "code",
      "source": [
        "# Sensitivity - Shadow Price & Slack <- only for the old version\n",
        "s = [{'Contraint Name': name, 'Shadow Price': c.pi, 'Slack': c.slack}\n",
        "     for name, c in model.constraints.items()]\n",
        "print(pd.DataFrame(s))"
      ],
      "metadata": {
        "id": "j7lv1Vt5OOZn",
        "outputId": "0dc583e5-5806-4ecf-8dc6-951d0eba83dd",
        "colab": {
          "base_uri": "https://localhost:8080/"
        }
      },
      "execution_count": 11,
      "outputs": [
        {
          "output_type": "stream",
          "name": "stdout",
          "text": [
            "   Contraint Name  Shadow Price   Slack\n",
            "0             _C1        1500.0    -0.0\n",
            "1             _C2         500.0    -0.0\n",
            "2             _C3          -0.0    12.0\n",
            "3             _C4        2000.0    -0.0\n",
            "4             _C5        2000.0    -0.0\n",
            "5             _C6        2000.0    -0.0\n",
            "6             _C7        2000.0    -0.0\n",
            "7             _C8          -0.0  5000.0\n",
            "8             _C9          -0.0  4000.0\n",
            "9            _C10          -0.0  8000.0\n",
            "10           _C11          -0.0  2500.0\n"
          ]
        }
      ]
    },
    {
      "cell_type": "markdown",
      "source": [
        "# Sensitivity Analysis - GLPK\n",
        "Prerequisites: The solver GLPK must be installed"
      ],
      "metadata": {
        "id": "4_yLeANzOfFB"
      }
    },
    {
      "cell_type": "code",
      "source": [
        "model.solve(GLPK(msg=True, options=['--ranges', 'assignment1_Sensitivity.sen'])) # Solve and produce the sensitivity report"
      ],
      "metadata": {
        "id": "5xzTZfMKQNil"
      },
      "execution_count": null,
      "outputs": []
    }
  ],
  "metadata": {
    "kernelspec": {
      "display_name": "Python 3",
      "language": "python",
      "name": "python3"
    },
    "language_info": {
      "codemirror_mode": {
        "name": "ipython",
        "version": 2
      },
      "file_extension": ".py",
      "mimetype": "text/x-python",
      "name": "python",
      "nbconvert_exporter": "python",
      "pygments_lexer": "ipython2",
      "version": "2.7.6"
    },
    "colab": {
      "name": "Assignment1.ipynb",
      "provenance": [],
      "include_colab_link": true
    }
  },
  "nbformat": 4,
  "nbformat_minor": 0
}