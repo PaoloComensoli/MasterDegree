{
 "cells": [
  {
   "cell_type": "markdown",
   "source": [],
   "metadata": {
    "collapsed": false,
    "pycharm": {
     "name": "#%% md\n"
    }
   }
  },
  {
   "cell_type": "markdown",
   "source": [
    "## 1.2 Objective functions\n",
    "**Maximize z = 3500A1 + 3500A2 + 3500A3 + 3500A4 + 2500B1 + 2500B2 + 2500B3 + 2500B4 + 2000C1 + 2000C2 + 2000C3 + 2000C4**"
   ],
   "metadata": {
    "collapsed": false,
    "pycharm": {
     "name": "#%% md\n"
    }
   }
  },
  {
   "cell_type": "markdown",
   "source": [
    "## 1.3 Constraint\n",
    "\n",
    "### Contratins in wagon weight capacity\n",
    "- A1 + B1 + C1 <= 10\n",
    "- A2 + B2 + C2 <= 8\n",
    "- A3 + B3 + C3 <= 12\n",
    "- A4 + B4 + C4 <= 6\n",
    "\n",
    "### Contains on wagon volume capacity\n",
    "- 500A1 + 300B1 + 400C1 <= 5000\n",
    "- 500A2 + 300B2 + 400C2 <= 4000\n",
    "- 500A3 + 300B3 + 400C3 <= 8000\n",
    "- 500A4 + 300B4 + 400C4 <= 2500\n",
    "\n",
    "### Contratins in cargo weight availability\n",
    "- A1 + A2 + A3 + A4 = 20\n",
    "- B1 + B2 + B3 + B4 = 10\n",
    "- C1 + C2 + C3 + C4 = 18\n",
    "\n",
    "### Contains of non negativity\n",
    "- [A1,..,C4] >= 0"
   ],
   "metadata": {
    "collapsed": false,
    "pycharm": {
     "name": "#%% md\n"
    }
   }
  },
  {
   "cell_type": "code",
   "execution_count": 62,
   "outputs": [],
   "source": [
    "import numpy as np\n",
    "from scipy.optimize import linprog"
   ],
   "metadata": {
    "collapsed": false,
    "pycharm": {
     "name": "#%%\n"
    }
   }
  },
  {
   "cell_type": "code",
   "execution_count": 67,
   "outputs": [],
   "source": [
    "var_list = ['(cg) 1 ON (wag) 1', '(cg) 1 ON (wag) 2', '(cg) 1 ON (wag) 3', '(cg) 1 ON (wag) 4',\n",
    "            '(cg) 2 ON (wag) 1', '(cg) 2 ON (wag) 2', '(cg) 2 ON (wag) 3', '(cg) 2 ON (wag) 4',\n",
    "            '(cg) 3 ON (wag) 1', '(cg) 3 ON (wag) 2', '(cg) 3 ON (wag) 3', '(cg) 3 ON (wag) 4']\n",
    "\n",
    "# A1,A2,A3,A4,B1,B2,B3,B4,C1,C2,C3,C4\n",
    "\n",
    "A_ineq = [[1,1,1,1,0,0,0,0,0,0,0,0], [0,0,0,0,1,1,1,1,0,0,0,0], [0,0,0,0,0,0,0,0,1,1,1,1],\n",
    "          [1,0,0,0,1,0,0,0,1,0,0,0], [0,1,0,0,0,1,0,0,0,1,0,0], [0,0,1,0,0,0,1,0,0,0,1,0], [0,0,0,1,0,0,0,1,0,0,0,1],\n",
    "          [500,0,0,0,300,0,0,0,400,0,0,0], [0,500,0,0,0,300,0,0,0,400,0,0],[0,0,500,0,0,0,300,0,0,0,400,0], [0,0,0,500,0,0,0,300,0,0,0,400]]\n",
    "\n",
    "B_ineq = [20, 10, 18, 10, 8, 12, 6, 5000, 4000, 8000, 2500]\n",
    "\n",
    "c = [-3500,-3500,-3500,-3500,-2500,-2500,-2500,-2500,-2000,-2000,-2000,-2000]\n",
    "\n",
    "res = linprog(c, A_ub=A_ineq, b_ub=B_ineq)"
   ],
   "metadata": {
    "collapsed": false,
    "pycharm": {
     "name": "#%%\n"
    }
   }
  },
  {
   "cell_type": "code",
   "execution_count": 68,
   "outputs": [
    {
     "name": "stdout",
     "output_type": "stream",
     "text": [
      "Optimal value: -107000.0\n"
     ]
    },
    {
     "data": {
      "text/plain": "{'(cg) 1 ON (wag) 1: 6.24 tons',\n '(cg) 1 ON (wag) 2: 4.27 tons',\n '(cg) 1 ON (wag) 3: 8.11 tons',\n '(cg) 1 ON (wag) 4: 1.38 tons',\n '(cg) 2 ON (wag) 1: 1.79 tons',\n '(cg) 2 ON (wag) 2: 1.87 tons',\n '(cg) 2 ON (wag) 3: 3.25 tons',\n '(cg) 2 ON (wag) 4: 3.09 tons',\n '(cg) 3 ON (wag) 1: 1.96 tons',\n '(cg) 3 ON (wag) 2: 1.86 tons',\n '(cg) 3 ON (wag) 3: 0.64 tons',\n '(cg) 3 ON (wag) 4: 1.54 tons'}"
     },
     "execution_count": 68,
     "metadata": {},
     "output_type": "execute_result"
    }
   ],
   "source": [
    "# Print the result\n",
    "print('Optimal value:', round(res.fun, ndigits=2))\n",
    "solutions = {f'{var_list[i]}: {np.round(res.x[i], 2)} tons'  for i in range(len(var_list))}\n",
    "solutions"
   ],
   "metadata": {
    "collapsed": false,
    "pycharm": {
     "name": "#%%\n"
    }
   }
  },
  {
   "cell_type": "code",
   "execution_count": 71,
   "outputs": [
    {
     "name": "stdout",
     "output_type": "stream",
     "text": [
      "Optimal value: -24961.79 \n",
      "x values: [0.83556873 0.87630385 0.198694   0.95194515 0.80370524 0.92959447\n",
      " 0.76355589 1.07658631 0.63812414 0.6675601  0.97279977 0.72621375] \n",
      "Number of iterations performed: 4 \n",
      "Status: The algorithm terminated successfully and determined that the problem is infeasible.\n"
     ]
    }
   ],
   "source": [
    "# Second version with equality\n",
    "\n",
    "# Maybe it is correct because I try to force a result that is not possible\n",
    "# Indeed in return that is infeasible\n",
    "# CORRECT\n",
    "\n",
    "var_list = ['(cg) 1 ON (wag) 1', '(cg) 1 ON (wag) 2', '(cg) 1 ON (wag) 3', '(cg) 1 ON (wag) 4',\n",
    "            '(cg) 2 ON (wag) 1', '(cg) 2 ON (wag) 2', '(cg) 2 ON (wag) 3', '(cg) 2 ON (wag) 4',\n",
    "            '(cg) 3 ON (wag) 1', '(cg) 3 ON (wag) 2', '(cg) 3 ON (wag) 3', '(cg) 3 ON (wag) 4']\n",
    "\n",
    "# A1,A2,A3,A4,B1,B2,B3,B4,C1,C2,C3,C4\n",
    "\n",
    "A_ineq = [[1,0,0,0,1,0,0,0,1,0,0,0], [0,1,0,0,0,1,0,0,0,1,0,0], [0,0,1,0,0,0,1,0,0,0,1,0], [0,0,0,1,0,0,0,1,0,0,0,1],\n",
    "          [500,0,0,0,300,0,0,0,400,0,0,0], [0,500,0,0,0,300,0,0,0,400,0,0],[0,0,500,0,0,0,300,0,0,0,400,0], [0,0,0,500,0,0,0,300,0,0,0,400]]\n",
    "\n",
    "B_ineq = [10, 8, 12, 6, 5000, 4000, 8000, 2500]\n",
    "\n",
    "A_eq = [[1,1,1,1,0,0,0,0,0,0,0,0], [0,0,0,0,1,1,1,1,0,0,0,0], [0,0,0,0,0,0,0,0,1,1,1,1]]\n",
    "B_eq = [20, 10, 18]\n",
    "\n",
    "c = [-3500,-3500,-3500,-3500,-2500,-2500,-2500,-2500,-2000,-2000,-2000,-2000]\n",
    "\n",
    "res = linprog(c, A_ub=A_ineq, b_ub=B_ineq, A_eq=A_eq, b_eq=B_eq)\n",
    "print('Optimal value:', round(res.fun, ndigits=2),\n",
    "      '\\nx values:', res.x,\n",
    "      '\\nNumber of iterations performed:', res.nit,\n",
    "      '\\nStatus:', res.message)"
   ],
   "metadata": {
    "collapsed": false,
    "pycharm": {
     "name": "#%%\n"
    }
   }
  },
  {
   "cell_type": "code",
   "execution_count": null,
   "outputs": [],
   "source": [],
   "metadata": {
    "collapsed": false,
    "pycharm": {
     "name": "#%%\n"
    }
   }
  }
 ],
 "metadata": {
  "kernelspec": {
   "display_name": "Python 3",
   "language": "python",
   "name": "python3"
  },
  "language_info": {
   "codemirror_mode": {
    "name": "ipython",
    "version": 2
   },
   "file_extension": ".py",
   "mimetype": "text/x-python",
   "name": "python",
   "nbconvert_exporter": "python",
   "pygments_lexer": "ipython2",
   "version": "2.7.6"
  }
 },
 "nbformat": 4,
 "nbformat_minor": 0
}