{
 "cells": [
  {
   "cell_type": "code",
   "execution_count": null,
   "metadata": {},
   "outputs": [],
   "source": [
    "import numpy as np\n",
    "import pandas as pd\n",
    "import statistics as st\n",
    "import matplotlib.pyplot as plt\n",
    "import statsmodels.formula.api as smf\n",
    "import statsmodels.api as sm\n",
    "\n",
    "import warnings\n",
    "import math\n",
    "\n",
    "from tabulate import tabulate\n",
    "from typing import Union\n",
    "\n",
    "from Utils import *\n",
    "from FinancialMetrics import *"
   ]
  },
  {
   "cell_type": "markdown",
   "metadata": {},
   "source": [
    "## Settings"
   ]
  },
  {
   "cell_type": "code",
   "execution_count": null,
   "metadata": {},
   "outputs": [],
   "source": [
    "warnings.filterwarnings('ignore')"
   ]
  },
  {
   "cell_type": "markdown",
   "metadata": {},
   "source": [
    "## Constants"
   ]
  },
  {
   "cell_type": "code",
   "execution_count": null,
   "metadata": {},
   "outputs": [],
   "source": [
    "ROLLING_WINDOW_SIZE = 180\n",
    "CLOSING_PRICE_CSV_NAME = 'NASDAQ-100-CLOSING-PRICES.csv' # The file must be in the same directory of the notebook"
   ]
  },
  {
   "cell_type": "markdown",
   "metadata": {},
   "source": [
    "## Data Pre-Processing\n",
    "The indexes dataframe contains all the value of each index in the range of Dates between 04/01/2017 and 24/05/2022\n",
    "\n",
    "### Get the Closing Price Dataset"
   ]
  },
  {
   "cell_type": "code",
   "execution_count": null,
   "metadata": {},
   "outputs": [],
   "source": [
    "closing_prices = pd.read_csv(CLOSING_PRICE_CSV_NAME)\n",
    "closing_prices.head()"
   ]
  },
  {
   "cell_type": "markdown",
   "metadata": {},
   "source": [
    "### Calculate the log returns"
   ]
  },
  {
   "cell_type": "code",
   "execution_count": null,
   "metadata": {},
   "outputs": [],
   "source": [
    "nasdaq100_returns = pd.read_csv('indexes.csv')\n",
    "#nasdaq100_returns = get_log_returns(CLOSING_PRICE_CSV_NAME)\n",
    "nasdaq100_returns.fillna(np.nan, inplace=True)\n",
    "nasdaq100_returns.head()\n",
    "nasdaq100_returns.head().style.applymap(color_negative_red)"
   ]
  },
  {
   "cell_type": "markdown",
   "metadata": {},
   "source": [
    "## Rolling Linear Regression\n",
    "Creiamo un dataframe (rollingDataFrame) contenente le prime ROLLING_WINDOW_SIZE righe del dataframe indexes e creiamo una funzione che, a seconda dei parametri, costruisce portfoli basati su alpha, beta, r^2 o errore.\n",
    "All'interno della lista indexNames inseriamo gli indici presenti in questi primi ROLLING_WINDOW_SIZE giorni.\n",
    "\n",
    "    • rollingDataFrame: contiene le prime ROLLING_WINDOW_SIZE righe del dataframe indexes;\n",
    "    • indexNames: contiene gli indici sempre presenti all'interno del Nasdaq nei primi ROLLING_WINDOW_SIZE giorni\n",
    "    • selector: str in ['alpha', 'beta', 'r2', 'error']"
   ]
  },
  {
   "cell_type": "code",
   "execution_count": null,
   "metadata": {},
   "outputs": [],
   "source": [
    "def get_window_returns(days):\n",
    "    window_returns = nasdaq100_returns.iloc[days: days + ROLLING_WINDOW_SIZE]\n",
    "    window_returns = window_returns.reset_index().drop(['index'], axis=1)\n",
    "\n",
    "    # Remove titles that are not in the Nasdaq-100 window range\n",
    "    window_returns.dropna(axis=1, how='any', inplace=True)\n",
    "\n",
    "    # Get the name of the columns\n",
    "    titles = window_returns.columns.tolist()\n",
    "\n",
    "    # Remove the first two element in indexNames (Dates, NDX Index) because I don't need them\n",
    "    # mantaining NDX Index in tmp\n",
    "    titles = titles[2:]\n",
    "\n",
    "    return window_returns, titles"
   ]
  },
  {
   "cell_type": "markdown",
   "metadata": {},
   "source": [
    "## Example: First 180 days"
   ]
  },
  {
   "cell_type": "code",
   "execution_count": null,
   "metadata": {},
   "outputs": [],
   "source": [
    "rolling_df, titles = get_window_returns(0)\n",
    "print(\"In the first {} days, {} stocks will be taken from the index and analyzed.\".format(ROLLING_WINDOW_SIZE, len(rolling_df.columns)))\n",
    "rolling_df.head().style.applymap(color_negative_red)"
   ]
  },
  {
   "cell_type": "markdown",
   "metadata": {},
   "source": [
    "## Portfolio Implementation"
   ]
  },
  {
   "cell_type": "code",
   "execution_count": null,
   "metadata": {},
   "outputs": [],
   "source": [
    "def portfolio_ranked(selector, selector_columns, days):\n",
    "    \"\"\"\n",
    "    Build a portfolio, based on the selector, by taking the titles included in the index in the range [days; days + ROLLING_WINDOW_SIZE]\n",
    "    :param selector: The selector to use in order to build the rank and select the titles\n",
    "    :param selector_columns: Optional values to use in the specific selector\n",
    "    :param days: The number of days to skip \n",
    "    \"\"\"\n",
    "\n",
    "    rolling_df, titles = get_window_returns(days)\n",
    "\n",
    "    # Build the dataframe\n",
    "    rank_df = pd.DataFrame(columns=['Title', selector] + selector_columns)\n",
    "    ndx_returns = rolling_df.iloc[:, 1].values\n",
    "\n",
    "    for title in titles:\n",
    "        title_returns = rolling_df.iloc[0 : ROLLING_WINDOW_SIZE, rolling_df.columns.get_loc(title)]\n",
    "\n",
    "        ndx_returns = sm.add_constant(ndx_returns)\n",
    "        model = sm.OLS(title_returns, ndx_returns)\n",
    "        result = model.fit()\n",
    "\n",
    "        if selector == 'max_r2':\n",
    "            rank_df = rank_df.append({'Title': title, selector: result.rsquared}, ignore_index=True)\n",
    "        elif selector == 'min_r2_and_high_specific_risk':\n",
    "            rank_df = rank_df.append({'Title': title, selector: result.rsquared, 'specificRisk': result.resid.std() ** 2}, ignore_index=True)\n",
    "        elif selector == 'max_specific_risk':\n",
    "            rank_df = rank_df.append({'Title': title, selector: result.resid.std() ** 2}, ignore_index=True)\n",
    "        elif selector == 'max_beta' or selector == 'min_beta':\n",
    "            rank_df = rank_df.append({'Title': title, selector: result.params[1] ** 2 * ndx_returns.std() ** 2}, ignore_index=True)\n",
    "        elif selector == 'high_systematic_risk' or selector == 'low_systematic_risk':\n",
    "            rank_df = rank_df.append({'Title': title, selector: result.params[1] ** 2 * ndx_returns.std() ** 2}, ignore_index=True)\n",
    "        elif selector == 'positive_alpha':\n",
    "            rank_df = rank_df.append({'Title': title, selector: result.params[0]}, ignore_index=True)\n",
    "        elif selector == 'positive_and_significant_alpha':\n",
    "            rank_df = rank_df.append({'Title': title, selector: result.params[0], 'alpha_significance':  result.pvalues[0]}, ignore_index=True)\n",
    "        elif selector == 'positive_alpha_and_high_beta':\n",
    "            rank_df = rank_df.append({'Title': title, selector: result.params[1], 'alpha': result.params[0],'alpha_significance':  result.pvalues[0]}, ignore_index=True)\n",
    "        elif selector == 'absolute_returns':\n",
    "            #totalReturn = np.sum(title_returns)\n",
    "            #rank_df = rank_df.append({'Title': title, selector: totalReturn}, ignore_index=True)\n",
    "            rank_df = rank_df.append({'Title': title, selector: get_absolute_return(title_returns)}, ignore_index=True)\n",
    "        \n",
    "    # Do the rank\n",
    "    if selector == 'max_r2' or selector == 'max_specific_risk' or selector == 'absolute_returns' or selector == 'max_beta' or selector == 'positive_alpha':\n",
    "        winners = rank_df.sort_values(by=selector, ascending=False).head(10)\n",
    "        selected_titles = winners['Title'].tolist()\n",
    "        selected_values = winners[selector].tolist()\n",
    "    elif selector == 'min_beta':\n",
    "        winners = rank_df.sort_values(by=selector, ascending=True).head(10)\n",
    "        selected_titles = winners['Title'].tolist()\n",
    "        selected_values = winners[selector].tolist()\n",
    "    elif selector == 'high_systematic_risk' or selector == 'low_systematic_risk':\n",
    "        ascending = False\n",
    "        if 'low' in selector:\n",
    "            ascending = True\n",
    "        winners = rank_df.sort_values(by=selector, ascending=ascending).head(10)\n",
    "        selected_titles = winners['Title'].tolist()\n",
    "        selected_values = winners[selector].tolist()\n",
    "    elif selector == 'positive_and_significant_alpha':\n",
    "        rank_df = rank_df[rank_df['alpha_significance'] < 0.05]\n",
    "        rank_df = rank_df[rank_df[selector] > 0]\n",
    "        if(rank_df.shape[1] < 10):\n",
    "            raise Exception(\"Not enought titles\")\n",
    "        winners = rank_df.sort_values(by=selector, ascending=False).head(10)\n",
    "        selected_titles = winners['Title'].tolist()\n",
    "        selected_values = winners[selector].tolist()\n",
    "    elif selector == 'positive_alpha_and_high_beta':\n",
    "        rank_df = rank_df[rank_df['alpha'] > 0]\n",
    "        winners = rank_df.sort_values(by=selector, ascending=False).head(10)\n",
    "        selected_titles = winners['Title'].tolist()\n",
    "        selected_values = winners[selector].tolist()\n",
    "    elif selector == 'min_r2_and_high_specific_risk':\n",
    "        rank_df = rank_df.sort_values(by=[selector], ascending=True)\n",
    "        rank_df = rank_df.head(int(len(titles) * 1/3))\n",
    "        winners = rank_df.sort_values(by='specificRisk', ascending=False).head(10)\n",
    "        selected_titles = winners['Title'].tolist()\n",
    "        selected_values = list(zip(winners[selector].tolist(), zip(winners['specificRisk'].tolist())))\n",
    "        \n",
    "    return selected_titles, selected_values\n",
    "    "
   ]
  },
  {
   "cell_type": "code",
   "execution_count": null,
   "metadata": {},
   "outputs": [],
   "source": [
    "selectors_optional_variables = {\n",
    "    'min_r2_and_high_specific_risk' : ['specific_risk'],\n",
    "    'positive_and_significant_alpha' : ['alpha_significance'],\n",
    "    'positive_alpha_and_high_beta' : ['alpha', 'alpha_significance']\n",
    "}"
   ]
  },
  {
   "cell_type": "code",
   "execution_count": null,
   "metadata": {},
   "outputs": [],
   "source": [
    "def portfolio_builder(selector):\n",
    "    portfolio_returns = []\n",
    "    portfolio = pd.DataFrame(columns=['Dates'] + [f'Title{i}' for i in range(1,11)] + ['Returns'])\n",
    "\n",
    "    selector_columns = []\n",
    "    \n",
    "    if selector in selectors_optional_variables.keys():\n",
    "        selector_columns = selectors_optional_variables[selector]\n",
    "\n",
    "    titles, _ = portfolio_ranked(selector, selector_columns, 0)\n",
    "    \n",
    "    days_range = nasdaq100_returns.shape[0] - ROLLING_WINDOW_SIZE\n",
    "    for days in range(7, days_range, 7):\n",
    "        nasdaq100_window_returns = nasdaq100_returns[titles].iloc[ROLLING_WINDOW_SIZE + days - 7 : ROLLING_WINDOW_SIZE + days]\n",
    "        for _, row in nasdaq100_window_returns.iterrows():\n",
    "            if np.isnan(row.sum()):\n",
    "                print(\"NaN in row\")\n",
    "                print(row)\n",
    "                print(\"\\n\")\n",
    "            portfolio_returns.append(row.sum() / 10)\n",
    "\n",
    "        portfolio_row = {'Dates': nasdaq100_returns.iloc[ROLLING_WINDOW_SIZE + days]['Dates']}\n",
    "        portfolio_row.update({f'Title{i}': titles[i - 1] for i in range(1,11)})\n",
    "        # portfolio_row.update({'Returns': portfolio_returns[-1]}) # DECIDE WHAT TO DO\n",
    "        portfolio = portfolio.append(portfolio_row, ignore_index=True)\n",
    "        titles, _ = portfolio_ranked(selector, selector_columns, days)\n",
    "    return portfolio, portfolio_returns\n",
    "    "
   ]
  },
  {
   "cell_type": "markdown",
   "metadata": {},
   "source": [
    "## Portfolio Selectors\n",
    "- max_r2: desc.."
   ]
  },
  {
   "cell_type": "code",
   "execution_count": null,
   "metadata": {},
   "outputs": [],
   "source": [
    "selectors = [\n",
    "    'max_r2',\n",
    "    'absolute_returns',\n",
    "    'min_r2_and_high_specific_risk', \n",
    "    'max_specific_risk',\n",
    "    'max_beta',\n",
    "    'min_beta', \n",
    "    'positive_alpha',\n",
    "    'high_systematic_risk',\n",
    "    'low_systematic_risk',\n",
    "    'positive_and_significant_alpha',\n",
    "    'positive_alpha_and_high_beta'\n",
    "]"
   ]
  },
  {
   "cell_type": "code",
   "execution_count": null,
   "metadata": {},
   "outputs": [],
   "source": [
    "base_metrics = pd.DataFrame(columns=['Portfolio Title', 'Annualized Returns', 'Annualized Volatility'])\n",
    "advanced_metrics = pd.DataFrame(columns=['Portfolio Title', 'Sharpe Ratio', 'Efficiency', 'MDD', 'Var 90', 'Var 95', 'Var 99', 'IR'])"
   ]
  },
  {
   "cell_type": "code",
   "execution_count": null,
   "metadata": {},
   "outputs": [],
   "source": [
    "portfolios_analysis = {}\n",
    "ndx_returns = nasdaq100_returns[181:]['NDX Index'].tolist()"
   ]
  },
  {
   "cell_type": "code",
   "execution_count": null,
   "metadata": {},
   "outputs": [],
   "source": [
    "for selector in selectors:\n",
    "    try:\n",
    "        print(f'Buildindg {selector} portfolio')\n",
    "        portfolio, returns = portfolio_builder(selector)\n",
    "        portfolios_analysis[selector] = returns\n",
    "        basic_row = get_base_metrics(selector, returns)\n",
    "        base_metrics = base_metrics.append(basic_row, ignore_index=True)\n",
    "\n",
    "        advanced_row = get_advanced_metrics(selector, returns, ndx_returns)\n",
    "        advanced_metrics = advanced_metrics.append(advanced_row, ignore_index=True)\n",
    "    except Exception as e:\n",
    "        print(f'Cannot build the portfolio for the selector {selector}: {str(e)}')\n"
   ]
  },
  {
   "cell_type": "code",
   "execution_count": null,
   "metadata": {},
   "outputs": [],
   "source": [
    "print(tabulate(base_metrics, headers='keys', tablefmt='psql')) "
   ]
  },
  {
   "cell_type": "code",
   "execution_count": null,
   "metadata": {},
   "outputs": [],
   "source": [
    "print(tabulate(advanced_metrics, headers='keys', tablefmt='psql')) "
   ]
  },
  {
   "cell_type": "code",
   "execution_count": null,
   "metadata": {},
   "outputs": [],
   "source": [
    "def portfolios_comparison(money, portfolios):\n",
    "    dates = np.array(nasdaq100_returns[181:]['Dates']) \n",
    "    ndx_returns = np.array(nasdaq100_returns[181:]['NDX Index'])\n",
    "    \n",
    "    returns = []\n",
    "    dates_to_show = [dates[i] for i in np.linspace(0, len(dates) - 1, 20).astype(int)]\n",
    "\n",
    "    returns.append(money * math.exp(ndx_returns[0]))\n",
    "    for i in range(1, len(dates)):\n",
    "        returns.append(returns[i-1] * math.exp(ndx_returns[i]))\n",
    "\n",
    "    plt.figure(figsize=(20,10))\n",
    "    plt.plot(dates, returns, label='NDX Index')\n",
    "\n",
    "    for title, portfolio_returns in portfolios.items():\n",
    "        returns = []\n",
    "        returns.append(money * math.exp(portfolio_returns[0]))\n",
    "        for i in range(1, len(dates)):\n",
    "            returns.append(returns[i-1] * math.exp(portfolio_returns[i]))\n",
    "        plt.plot(dates, returns, label=title)\n",
    "\n",
    "    plt.xlabel(\"Date\")\n",
    "    plt.xticks(dates_to_show, rotation=45)\n",
    "    plt.ylabel(\"Value ($)\")\n",
    "    plt.legend()\n",
    "    plt.title(\"Portfolios Comparison\")\n",
    "    # Aggiungere legenda log return"
   ]
  },
  {
   "cell_type": "code",
   "execution_count": null,
   "metadata": {},
   "outputs": [],
   "source": [
    "portfolios_comparison(100, portfolios_analysis)"
   ]
  },
  {
   "cell_type": "code",
   "execution_count": null,
   "metadata": {},
   "outputs": [],
   "source": [
    "# Mostrare in una tabella anche il max, il min e ultimo valore disponibile\n",
    "# Riportare lo sharp ration negativo di questo periodo\n",
    "# per quanto riguarda il selector absolute_return mostrare risultati come nell'immagine nella cartella Financial\n",
    "    # Oppure magari provare: al posto di considerare tutti i 180 giorni provare solo con gli ultimi 10"
   ]
  }
 ],
 "metadata": {
  "kernelspec": {
   "display_name": "Python 3.9.13 64-bit (windows store)",
   "language": "python",
   "name": "python3"
  },
  "language_info": {
   "codemirror_mode": {
    "name": "ipython",
    "version": 3
   },
   "file_extension": ".py",
   "mimetype": "text/x-python",
   "name": "python",
   "nbconvert_exporter": "python",
   "pygments_lexer": "ipython3",
   "version": "3.9.13"
  },
  "orig_nbformat": 4,
  "vscode": {
   "interpreter": {
    "hash": "76138418a387bad0f053fbad3fc8f4bba023084ab7c4cba1783c6f70bccd9aae"
   }
  }
 },
 "nbformat": 4,
 "nbformat_minor": 2
}
